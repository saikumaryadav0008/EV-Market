{
 "cells": [
  {
   "cell_type": "markdown",
   "id": "010d7538",
   "metadata": {},
   "source": [
    "# EV Market Analysis in India\n",
    "\n",
    "This notebook explores EV market segmentation, adoption trends, forecasting, and clustering for strategic insights."
   ]
  },
  {
   "cell_type": "code",
   "execution_count": null,
   "id": "f541bfcb",
   "metadata": {},
   "outputs": [],
   "source": [
    "\n",
    "import pandas as pd\n",
    "import matplotlib.pyplot as plt\n",
    "import seaborn as sns\n",
    "\n",
    "monthly_sales.head(), state_data.head(), vehicle_data.head()\n"
   ]
  },
  {
   "cell_type": "code",
   "execution_count": null,
   "id": "5770692b",
   "metadata": {},
   "outputs": [],
   "source": [
    "\n",
    "plt.figure(figsize=(8,5))\n",
    "sns.barplot(x=\"EV_Adoption\", y=\"State\", data=state_data, palette=\"viridis\")\n",
    "plt.title(\"EV Adoption by State\")\n",
    "plt.show()\n"
   ]
  },
  {
   "cell_type": "code",
   "execution_count": null,
   "id": "6a9c63c9",
   "metadata": {},
   "outputs": [],
   "source": [
    "\n",
    "plt.figure(figsize=(10,5))\n",
    "plt.plot(monthly_sales[\"Date\"], monthly_sales[\"EV_Sales\"], label=\"Actual Sales\")\n",
    "plt.plot(forecast_df[\"Date\"], forecast_df[\"Forecast_Sales\"], label=\"Forecast\", linestyle=\"--\")\n",
    "plt.title(\"Monthly EV Sales & Forecast\")\n",
    "plt.legend()\n",
    "plt.show()\n"
   ]
  },
  {
   "cell_type": "code",
   "execution_count": null,
   "id": "e93b345b",
   "metadata": {},
   "outputs": [],
   "source": [
    "\n",
    "plt.figure(figsize=(6,6))\n",
    "plt.pie(vehicle_data[\"Share(%)\"], labels=vehicle_data[\"Vehicle_Type\"], autopct='%1.1f%%', startangle=140)\n",
    "plt.title(\"EV Distribution by Vehicle Type\")\n",
    "plt.show()\n"
   ]
  },
  {
   "cell_type": "code",
   "execution_count": null,
   "id": "41be117c",
   "metadata": {},
   "outputs": [],
   "source": [
    "\n",
    "plt.figure(figsize=(8,6))\n",
    "sns.scatterplot(x=\"EV_Adoption\", y=\"Charging_Stations\", hue=\"Cluster\", size=\"Population_m\", sizes=(100,1000), data=state_data, palette=\"deep\")\n",
    "plt.title(\"Clustering of States by EV Adoption, Charging Infra, and Population\")\n",
    "plt.show()\n"
   ]
  },
  {
   "cell_type": "code",
   "execution_count": null,
   "id": "a59ca50d",
   "metadata": {},
   "outputs": [],
   "source": [
    "\n",
    "plt.figure(figsize=(6,5))\n",
    "sns.heatmap(state_data.drop(columns=\"Cluster\").corr(), annot=True, cmap=\"coolwarm\")\n",
    "plt.title(\"Correlation Heatmap\")\n",
    "plt.show()\n"
   ]
  },
  {
   "cell_type": "markdown",
   "id": "e7d941e3",
   "metadata": {},
   "source": [
    "\n",
    "### Insights\n",
    "- **Delhi & Karnataka** fall into the *early adopter* cluster with strong EV adoption and infra.\n",
    "- **Forecast** shows steady EV growth, likely doubling in 2 years.\n",
    "- **Two-wheelers dominate** with >60% share, highlighting affordability and practicality.\n",
    "- Strong correlation exists between **charging infra & adoption**, suggesting infra expansion is key.\n"
   ]
  }
 ],
 "metadata": {},
 "nbformat": 4,
 "nbformat_minor": 5
}
